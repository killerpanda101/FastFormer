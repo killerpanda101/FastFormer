{
  "cells": [
    {
      "cell_type": "markdown",
      "id": "c34a5320",
      "metadata": {
        "id": "c34a5320"
      },
      "source": [
        "## Setup"
      ]
    },
    {
      "cell_type": "code",
      "execution_count": 1,
      "id": "92081dc6",
      "metadata": {
        "id": "92081dc6"
      },
      "outputs": [],
      "source": [
        "import math\n",
        "\n",
        "import torch\n",
        "import torch.nn as nn\n",
        "import torch.nn.functional as F\n",
        "\n",
        "from torchtext.datasets import AG_NEWS\n",
        "train_iter = AG_NEWS(split='train')"
      ]
    },
    {
      "cell_type": "markdown",
      "id": "612890ad",
      "metadata": {
        "id": "612890ad"
      },
      "source": [
        "### Set up data related stuff"
      ]
    },
    {
      "cell_type": "code",
      "execution_count": 80,
      "id": "c92ea24e",
      "metadata": {
        "id": "c92ea24e"
      },
      "outputs": [],
      "source": [
        "# check here for details https://github.com/pytorch/text/blob/main/torchtext/data/utils.py#L52-#L166\n",
        "from torchtext.data.utils import get_tokenizer\n",
        "# check here for details https://github.com/pytorch/text/blob/main/torchtext/vocab/vocab_factory.py#L65-L113\n",
        "from torchtext.vocab import build_vocab_from_iterator\n",
        "\n",
        "# A tokenizer splits a input setence into a set of tokens, including those puncuation\n",
        "# For example\n",
        "# >>> tokens = tokenizer(\"You can now install TorchText using pip!\")\n",
        "# >>> tokens\n",
        "# >>> ['you', 'can', 'now', 'install', 'torchtext', 'using', 'pip', '!']\n",
        "tokenizer = get_tokenizer('basic_english')\n",
        "\n",
        "train_iter = AG_NEWS(split='train')\n",
        "\n",
        "def yield_tokens(data_iter):\n",
        "    for _, text in data_iter:\n",
        "        yield tokenizer(text)\n",
        "\n",
        "# Creates a vocab object which maps tokens to indices\n",
        "# Check here for details https://github.com/pytorch/text/blob/main/torchtext/vocab/vocab.py\n",
        "vocab = build_vocab_from_iterator(yield_tokens(train_iter), specials=[\"<unk>\"])\n",
        "\n",
        "# The specified token will be returned when a out-of-vocabulary token is queried.\n",
        "vocab.set_default_index(vocab[\"<unk>\"])\n",
        "\n",
        "text_pipeline = lambda x: vocab(tokenizer(x))\n",
        "label_pipeline = lambda x: int(x) - 1\n",
        "\n",
        "# The padding token we need to use\n",
        "# The returned indices are always in an array\n",
        "PAD_TOKEN = vocab(tokenizer('<pad>'))\n",
        "assert len(PAD_TOKEN) == 1\n",
        "PAD_TOKEN = PAD_TOKEN[0]"
      ]
    },
    {
      "cell_type": "code",
      "execution_count": 3,
      "id": "bdd006c5",
      "metadata": {
        "colab": {
          "base_uri": "https://localhost:8080/"
        },
        "id": "bdd006c5",
        "outputId": "1de3a5f1-bfa5-4367-9b4b-7829d32b68c3"
      },
      "outputs": [
        {
          "output_type": "stream",
          "name": "stdout",
          "text": [
            "label.shape: torch.Size([8])\n",
            "label: tensor([2, 2, 2, 2, 2, 2, 2, 2])\n",
            "data.shape: torch.Size([8, 49])\n"
          ]
        }
      ],
      "source": [
        "# Documentation of DataLoader https://pytorch.org/docs/stable/data.html#torch.utils.data.DataLoader\n",
        "from torch.utils.data import DataLoader\n",
        "\n",
        "# Merges a list of samples to form a mini-batch of Tensor(s)\n",
        "def collate_batch(batch):\n",
        "    \"\"\"\n",
        "    Input:\n",
        "    - batch: A list of data in a mini batch, where the length denotes the batch size.\n",
        "      The actual context depends on a particular dataset. In our case, each position\n",
        "      contains a label and a Tensor (tokens in a sentence).\n",
        "\n",
        "    Returns:\n",
        "    - batched_label: A Tensor with the shape of (B,)\n",
        "    - batched_text: A Tensor with the shape of (B, L, C), where L is the sequence length\n",
        "      and C is the channeld dimension\n",
        "    \"\"\"\n",
        "    label_list, text_list, text_len_list = [], [], []\n",
        "    for (_label, _text) in batch:\n",
        "        label_list.append(label_pipeline(_label))\n",
        "        processed_text = torch.tensor(text_pipeline(_text), dtype=torch.int64)\n",
        "        text_list.append(processed_text)\n",
        "        text_len_list.append(processed_text.size(0))\n",
        "    batched_label, batched_text = None, None\n",
        "\n",
        "    max_len = max(text_len_list)\n",
        "    batched_label = torch.tensor(label_list)\n",
        "    for i in range(len(text_list)):\n",
        "      padding = torch.tensor([PAD_TOKEN for _ in range(max_len-len(text_list[i]))])\n",
        "      text_list[i] = torch.cat((text_list[i], padding), 0)\n",
        "    batched_text = torch.stack(text_list)\n",
        "\n",
        "    return batched_label.long(), batched_text.long()\n",
        "\n",
        "# Now, let's check what the batched data looks like\n",
        "train_iter = AG_NEWS(split='train')\n",
        "dataloader = DataLoader(train_iter, batch_size=8, shuffle=False, collate_fn=collate_batch)\n",
        "for idx, (label, data) in enumerate(dataloader):\n",
        "    if idx > 0:\n",
        "        break\n",
        "    print('label.shape: {}'.format(label.shape))\n",
        "    print('label: {}'.format(label))\n",
        "    print('data.shape: {}'.format(data.shape))"
      ]
    },
    {
      "cell_type": "code",
      "execution_count": 81,
      "id": "b5dc8d4a",
      "metadata": {
        "id": "b5dc8d4a"
      },
      "outputs": [],
      "source": [
        "import time\n",
        "\n",
        "def train(model, dataloader, loss_func, device, grad_norm_clip):\n",
        "    model.train()\n",
        "    total_acc, total_count = 0, 0\n",
        "    log_interval = 500\n",
        "    start_time = time.time()\n",
        "    softmax = nn.Softmax(dim=1)\n",
        "\n",
        "    for idx, (label, text) in enumerate(dataloader):\n",
        "        label = label.to(device)\n",
        "        text = text.to(device)\n",
        "        optimizer.zero_grad()\n",
        "\n",
        "        logits = None\n",
        "        logits = model(text)\n",
        "        classes = softmax(logits)\n",
        "        loss = loss_func(classes, label)\n",
        "        loss.backward()\n",
        "\n",
        "        torch.nn.utils.clip_grad_norm_(model.parameters(), grad_norm_clip)\n",
        "        optimizer.step()\n",
        "        total_acc += (logits.argmax(1) == label).sum().item()\n",
        "        total_count += label.size(0)\n",
        "        if idx % log_interval == 0 and idx > 0:\n",
        "            elapsed = time.time() - start_time\n",
        "            print('| epoch {:3d} | {:5d}/{:5d} batches '\n",
        "                  '| accuracy {:8.3f}'.format(epoch, idx, len(dataloader),\n",
        "                                              total_acc/total_count))\n",
        "            total_acc, total_count = 0, 0\n",
        "            start_time = time.time()\n",
        "\n",
        "def evaluate(model, dataloader, loss_func, device):\n",
        "    model.eval()\n",
        "    total_acc, total_count = 0, 0\n",
        "    softmax = nn.Softmax(dim=1)\n",
        "\n",
        "    with torch.no_grad():\n",
        "        for idx, (label, text) in enumerate(dataloader):\n",
        "            label = label.to(device)\n",
        "            text = text.to(device)\n",
        "\n",
        "            logits = model(text)\n",
        "            classes = softmax(logits)\n",
        "            loss = loss_func(classes, label)\n",
        "\n",
        "            total_acc += (logits.argmax(1) == label).sum().item()\n",
        "            total_count += label.size(0)\n",
        "    return total_acc/total_count"
      ]
    },
    {
      "cell_type": "code",
      "execution_count": 5,
      "id": "7d932295",
      "metadata": {
        "id": "7d932295"
      },
      "outputs": [],
      "source": [
        "class MultiHeadAttention(nn.Module):\n",
        "    \"\"\"\n",
        "    A module that computes multi-head attention given query, key, and value tensors.\n",
        "    \"\"\"\n",
        "    def __init__(self, input_dim: int, num_heads: int):\n",
        "        \"\"\"\n",
        "        Constructor.\n",
        "\n",
        "        Inputs:\n",
        "        - input_dim: Dimension of the input query, key, and value. Here we assume they all have\n",
        "          the same dimensions. But they could have different dimensions in other problems.\n",
        "        - num_heads: Number of attention heads\n",
        "        \"\"\"\n",
        "        super(MultiHeadAttention, self).__init__()\n",
        "\n",
        "        assert input_dim % num_heads == 0\n",
        "\n",
        "        self.input_dim = input_dim\n",
        "        self.num_heads = num_heads\n",
        "        self.dim_per_head = input_dim // num_heads\n",
        "\n",
        "\n",
        "        self.key_fc = nn.Linear(input_dim, input_dim)\n",
        "        self.value_fc = nn.Linear(input_dim, input_dim)\n",
        "        self.query_fc = nn.Linear(input_dim, input_dim)\n",
        "        self.output_fc = nn.Linear(input_dim, input_dim)\n",
        "\n",
        "\n",
        "    def forward(self, query: torch.Tensor, key: torch.Tensor, value: torch.Tensor, mask: torch.Tensor=None):\n",
        "        \"\"\"\n",
        "        Compute the attended feature representations.\n",
        "\n",
        "        Inputs:\n",
        "        - query: Tensor of the shape BxLxC, where B is the batch size, L is the sequence length,\n",
        "          and C is the channel dimension\n",
        "        - key: Tensor of the shape BxLxC\n",
        "        - value: Tensor of the shape BxLxC\n",
        "        - mask: Tensor indicating where the attention should *not* be performed\n",
        "        \"\"\"\n",
        "        b = query.shape[0]\n",
        "\n",
        "        dot_prod_scores = None\n",
        "\n",
        "        query = self.query_fc(query)\n",
        "        key = self.key_fc(key)\n",
        "        value = self.value_fc(value)\n",
        "\n",
        "        query_l, key_l, value_l = query.shape[1], key.shape[1], value.shape[1]\n",
        "\n",
        "        # embeddings are split into dim_per_head parts\n",
        "        # query shape: (B, query_l, num_heads, dim_per_head)\n",
        "        # key shape  : (B, key_len, num_heads, dim_per_head)\n",
        "        # value shape: (B, value_l, num_heads, dim_per_head)\n",
        "        query = query.reshape(b, query_l, self.num_heads, self.dim_per_head)\n",
        "        key = key.reshape(b, key_l, self.num_heads, self.dim_per_head)\n",
        "        value = value.reshape(b, key_l, self.num_heads, self.dim_per_head)\n",
        "\n",
        "        query = query.transpose(1, 2)             # [B, num_heads, query_l, dim_per_head]\n",
        "        key = key.transpose(1, 2).transpose(2, 3) # [B, num_heads, dim_per_head, key_len]\n",
        "        value = value.transpose(1, 2)             # [B, num_heads, value_l, dim_per_head]\n",
        "\n",
        "\n",
        "        # d ot_prod_scores shape: [B, num_heads, query_l, key_l]\n",
        "        dot_prod_scores = torch.matmul(query, key)\n",
        "\n",
        "\n",
        "        if mask is not None:\n",
        "            # We simply set the similarity scores to be near zero for the positions\n",
        "            # where the attention should not be done. Think of why we do this.\n",
        "            dot_prod_scores = dot_prod_scores.masked_fill(mask == 0, -1e9)\n",
        "\n",
        "        out = None\n",
        "\n",
        "        # attention shape: [B, num_heads, query_l, key_l]\n",
        "        # value shape:     [B, num_heads, value_l, dim_per_head]\n",
        "        attention = torch.softmax(dot_prod_scores/(self.input_dim**(1/2)), dim=3)\n",
        "        out = attention.matmul(value) # [B, num_heads, query_l, dim_per_head]\n",
        "        out = out.transpose(1, 2)     # [B, query_l, num_heads, dim_per_head]\n",
        "        out = out.reshape(b, -1, self.num_heads * self.dim_per_head) #[B,L,C]\n",
        "\n",
        "        out = self.output_fc(out)\n",
        "\n",
        "        return out"
      ]
    },
    {
      "cell_type": "code",
      "execution_count": 6,
      "id": "c5bd2c45",
      "metadata": {
        "colab": {
          "base_uri": "https://localhost:8080/"
        },
        "id": "c5bd2c45",
        "outputId": "6a0c48a3-97cd-47e2-931e-4b3c625bee3d"
      },
      "outputs": [
        {
          "output_type": "stream",
          "name": "stdout",
          "text": [
            "torch.Size([2, 10, 8])\n"
          ]
        }
      ],
      "source": [
        "x = torch.randn((2, 10, 8))\n",
        "mask = torch.randn((2, 10)) > 0.5\n",
        "mask = mask.unsqueeze(1).unsqueeze(-1)\n",
        "num_heads = 4\n",
        "model = MultiHeadAttention(8, num_heads)\n",
        "y = model(x, x, x, mask)\n",
        "assert len(y.shape) == len(x.shape)\n",
        "for dim_x, dim_y in zip(x.shape, y.shape):\n",
        "    assert dim_x == dim_y\n",
        "print(y.shape)"
      ]
    },
    {
      "cell_type": "code",
      "execution_count": 7,
      "id": "5b7083ff",
      "metadata": {
        "id": "5b7083ff"
      },
      "outputs": [],
      "source": [
        "class FeedForwardNetwork(nn.Module):\n",
        "    \"\"\"\n",
        "    A simple feedforward network. Essentially, it is a two-layer fully-connected\n",
        "    neural network.\n",
        "    \"\"\"\n",
        "    def __init__(self, input_dim, ff_dim, dropout):\n",
        "        \"\"\"\n",
        "        Inputs:\n",
        "        - input_dim: Input dimension\n",
        "        - ff_dim: Hidden dimension\n",
        "        \"\"\"\n",
        "        super(FeedForwardNetwork, self).__init__()\n",
        "\n",
        "        self.linear1 = nn.Linear(input_dim, ff_dim)\n",
        "        self.linear2 = nn.Linear(ff_dim, input_dim)\n",
        "        self.non_linear = nn.ReLU()\n",
        "\n",
        "\n",
        "    def forward(self, x: torch.Tensor):\n",
        "        \"\"\"\n",
        "        Input:\n",
        "        - x: Tensor of the shape BxLxC, where B is the batch size, L is the sequence length,\n",
        "         and C is the channel dimension\n",
        "\n",
        "        Return:\n",
        "        - y: Tensor of the shape BxLxC\n",
        "        \"\"\"\n",
        "\n",
        "        y = None\n",
        "\n",
        "        y = self.linear1(x)\n",
        "        y = self.non_linear(y)\n",
        "        y = self.linear2(y)\n",
        "\n",
        "        return y\n",
        ""
      ]
    },
    {
      "cell_type": "code",
      "execution_count": 8,
      "id": "1671c24f",
      "metadata": {
        "colab": {
          "base_uri": "https://localhost:8080/"
        },
        "id": "1671c24f",
        "outputId": "0b640af7-b976-4811-e554-c4d6f2e06987"
      },
      "outputs": [
        {
          "output_type": "stream",
          "name": "stdout",
          "text": [
            "torch.Size([2, 10, 8])\n"
          ]
        }
      ],
      "source": [
        "x = torch.randn((2, 10, 8))\n",
        "ff_dim = 4\n",
        "model = FeedForwardNetwork(8, ff_dim, 0.1)\n",
        "y = model(x)\n",
        "assert len(x.shape) == len(y.shape)\n",
        "for dim_x, dim_y in zip(x.shape, y.shape):\n",
        "    assert dim_x == dim_y\n",
        "print(y.shape)"
      ]
    },
    {
      "cell_type": "code",
      "execution_count": 13,
      "id": "c5aca2a1",
      "metadata": {
        "id": "c5aca2a1"
      },
      "outputs": [],
      "source": [
        "class TransformerEncoderCell(nn.Module):\n",
        "    \"\"\"\n",
        "    A single cell (unit) for the Transformer encoder.\n",
        "    \"\"\"\n",
        "    def __init__(self, input_dim: int, num_heads: int, ff_dim: int, dropout: float):\n",
        "        \"\"\"\n",
        "        Inputs:\n",
        "        - input_dim: Input dimension for each token in a sequence\n",
        "        - num_heads: Number of attention heads in a multi-head attention module\n",
        "        - ff_dim: The hidden dimension for a feedforward network\n",
        "        - dropout: Dropout ratio for the output of the multi-head attention and feedforward\n",
        "          modules.\n",
        "        \"\"\"\n",
        "        super(TransformerEncoderCell, self).__init__()\n",
        "\n",
        "        self.attention = MultiHeadAttention(input_dim, num_heads)\n",
        "        self.dropout = nn.Dropout(dropout)\n",
        "        self.norm1 = nn.LayerNorm(input_dim)\n",
        "        self.norm2 = nn.LayerNorm(input_dim)\n",
        "        self.fc = FeedForwardNetwork(input_dim, ff_dim, dropout)\n",
        "\n",
        "    def forward(self, x: torch.Tensor, mask: torch.Tensor=None):\n",
        "        \"\"\"\n",
        "        Inputs:\n",
        "        - x: Tensor of the shape BxLxC, where B is the batch size, L is the sequence length,\n",
        "          and C is the channel dimension\n",
        "        - mask: Tensor for multi-head attention\n",
        "        \"\"\"\n",
        "\n",
        "        y = None\n",
        "\n",
        "        attention = self.attention(x,x,x,mask)\n",
        "        attention = self.dropout(attention)\n",
        "        x = self.norm1(attention+x)\n",
        "        forward = self.fc(x)\n",
        "        forward = self.dropout(forward)\n",
        "        y = self.norm2(forward+x)\n",
        "\n",
        "        return y"
      ]
    },
    {
      "cell_type": "code",
      "execution_count": 14,
      "id": "77e4fcff",
      "metadata": {
        "colab": {
          "base_uri": "https://localhost:8080/"
        },
        "id": "77e4fcff",
        "outputId": "9b91216b-41dc-47bd-fadb-4ac031945bf8"
      },
      "outputs": [
        {
          "output_type": "stream",
          "name": "stdout",
          "text": [
            "torch.Size([2, 10, 8])\n"
          ]
        }
      ],
      "source": [
        "x = torch.randn((2, 10, 8))\n",
        "mask = torch.randn((2, 10)) > 0.5\n",
        "mask = mask.unsqueeze(1).unsqueeze(-1)\n",
        "num_heads = 4\n",
        "model = TransformerEncoderCell(8, num_heads, 32, 0.1)\n",
        "y = model(x, mask)\n",
        "assert len(x.shape) == len(y.shape)\n",
        "for dim_x, dim_y in zip(x.shape, y.shape):\n",
        "    assert dim_x == dim_y\n",
        "print(y.shape)"
      ]
    },
    {
      "cell_type": "code",
      "execution_count": 15,
      "id": "f72b398a",
      "metadata": {
        "id": "f72b398a"
      },
      "outputs": [],
      "source": [
        "class TransformerEncoder(nn.Module):\n",
        "    \"\"\"\n",
        "    A full encoder consisting of a set of TransformerEncoderCell.\n",
        "    \"\"\"\n",
        "    def __init__(self, input_dim: int, num_heads: int, ff_dim: int, num_cells: int, dropout: float=0.1):\n",
        "        \"\"\"\n",
        "        Inputs:\n",
        "        - input_dim: Input dimension for each token in a sequence\n",
        "        - num_heads: Number of attention heads in a multi-head attention module\n",
        "        - ff_dim: The hidden dimension for a feedforward network\n",
        "        - num_cells: Number of TransformerEncoderCells\n",
        "        - dropout: Dropout ratio for the output of the multi-head attention and feedforward\n",
        "          modules.\n",
        "        \"\"\"\n",
        "        super(TransformerEncoder, self).__init__()\n",
        "        self.norm = None\n",
        "        self.layers = nn.ModuleList(\n",
        "            [TransformerEncoderCell(input_dim, num_heads, ff_dim, dropout) for _ in range(num_cells)]\n",
        "        )\n",
        "        self.norm = nn.LayerNorm(input_dim)\n",
        "\n",
        "\n",
        "    def forward(self, x: torch.Tensor, mask: torch.Tensor=None):\n",
        "        \"\"\"\n",
        "        Inputs:\n",
        "        - x: Tensor of the shape BxLxC, where B is the batch size, L is the sequence length,\n",
        "          and C is the channel dimension\n",
        "        - mask: Tensor for multi-head attention\n",
        "\n",
        "        Return:\n",
        "        - y: Tensor of the shape of BxLxC, which is the normalized output of the encoder\n",
        "        \"\"\"\n",
        "\n",
        "        y = None\n",
        "        for layer in self.layers:\n",
        "          x = layer(x,mask)\n",
        "\n",
        "        y = self.norm(x)\n",
        "\n",
        "        return y\n",
        ""
      ]
    },
    {
      "cell_type": "code",
      "execution_count": 16,
      "id": "64ddad9c",
      "metadata": {
        "colab": {
          "base_uri": "https://localhost:8080/"
        },
        "id": "64ddad9c",
        "outputId": "36dd1eb4-e94b-410c-a1fb-b328bde2f8b6"
      },
      "outputs": [
        {
          "output_type": "stream",
          "name": "stdout",
          "text": [
            "torch.Size([2, 10, 8])\n"
          ]
        }
      ],
      "source": [
        "x = torch.randn((2, 10, 8))\n",
        "mask = torch.randn((2, 10)) > 0.5\n",
        "mask = mask.unsqueeze(1).unsqueeze(-1)\n",
        "num_heads = 4\n",
        "model = TransformerEncoder(8, num_heads, 32, 2, 0.1)\n",
        "y = model(x)\n",
        "assert len(x.shape) == len(y.shape)\n",
        "for dim_x, dim_y in zip(x.shape, y.shape):\n",
        "    assert dim_x == dim_y\n",
        "print(y.shape)"
      ]
    },
    {
      "cell_type": "code",
      "execution_count": 17,
      "id": "52b5ff70",
      "metadata": {
        "id": "52b5ff70"
      },
      "outputs": [],
      "source": [
        "class PositionalEncoding(nn.Module):\n",
        "    \"\"\"\n",
        "    A module that adds positional encoding to each of the token's features.\n",
        "    So that the Transformer is position aware.\n",
        "    \"\"\"\n",
        "    def __init__(self, input_dim: int, max_len: int=10000):\n",
        "        \"\"\"\n",
        "        Inputs:\n",
        "        - input_dim: Input dimension about the features for each token\n",
        "        - max_len: The maximum sequence length\n",
        "        \"\"\"\n",
        "        super(PositionalEncoding, self).__init__()\n",
        "\n",
        "        self.input_dim = input_dim\n",
        "\n",
        "    def forward(self, x):\n",
        "        \"\"\"\n",
        "        Compute the positional encoding and add it to x.\n",
        "\n",
        "        Input:\n",
        "        - x: Tensor of the shape BxLxC, where B is the batch size, L is the sequence length,\n",
        "          and C is the channel dimension\n",
        "\n",
        "        Return:\n",
        "        - x: Tensor of the shape BxLxC, with the positional encoding added to the input\n",
        "        \"\"\"\n",
        "        seq_len = x.shape[1]\n",
        "        input_dim = x.shape[2]\n",
        "\n",
        "        pe = torch.zeros(seq_len, input_dim, requires_grad=False)\n",
        "\n",
        "        for pos in range(seq_len):\n",
        "            for i in range(0, input_dim, 2):\n",
        "                pe[pos, i] = math.sin(pos / (10000 ** ((2 * i)/input_dim)))\n",
        "                pe[pos, i + 1] = math.cos(pos / (10000 ** ((2 * i)/input_dim)))\n",
        "        pe = pe.reshape(1, seq_len, input_dim)\n",
        "\n",
        "\n",
        "        x = x + pe.to(x.device)\n",
        "        return x"
      ]
    },
    {
      "cell_type": "code",
      "execution_count": 18,
      "id": "6d1d76c1",
      "metadata": {
        "id": "6d1d76c1"
      },
      "outputs": [],
      "source": [
        "# Sanity check\n",
        "x = torch.randn(1, 100, 20)\n",
        "pe = PositionalEncoding(20)\n",
        "y = pe(x)\n",
        "assert len(x.shape) == len(y.shape)\n",
        "for dim_x, dim_y in zip(x.shape, y.shape):\n",
        "    assert dim_x == dim_y"
      ]
    },
    {
      "cell_type": "code",
      "execution_count": 19,
      "id": "5a34a7de",
      "metadata": {
        "colab": {
          "base_uri": "https://localhost:8080/",
          "height": 463
        },
        "id": "5a34a7de",
        "outputId": "37cb754a-7b3e-496c-dd4a-d661477aacde"
      },
      "outputs": [
        {
          "output_type": "execute_result",
          "data": {
            "text/plain": [
              "<matplotlib.legend.Legend at 0x78217d963700>"
            ]
          },
          "metadata": {},
          "execution_count": 19
        },
        {
          "output_type": "display_data",
          "data": {
            "text/plain": [
              "<Figure size 1500x500 with 1 Axes>"
            ],
            "image/png": "[encoded data removed]"
          },
          "metadata": {}
        }
      ],
      "source": [
        "%matplotlib inline\n",
        "import matplotlib.pyplot as plt\n",
        "import numpy as np\n",
        "\n",
        "plt.figure(figsize=(15, 5))\n",
        "pe = PositionalEncoding(20, 0)\n",
        "y = pe.forward((torch.zeros(1, 100, 20)))\n",
        "plt.plot(np.arange(100), y[0, :, 4:8].data.numpy())\n",
        "plt.legend([\"dim %d\"%p for p in [4,5,6,7]])"
      ]
    },
    {
      "cell_type": "code",
      "execution_count": 20,
      "id": "ea75af7f",
      "metadata": {
        "id": "ea75af7f"
      },
      "outputs": [],
      "source": [
        "class TransformerClassifier(nn.Module):\n",
        "    \"\"\"\n",
        "    A Transformer-based text classifier.\n",
        "    \"\"\"\n",
        "    def __init__(self,\n",
        "            vocab_size: int, embed_dim: int, num_heads: int, trx_ff_dim: int,\n",
        "            num_trx_cells: int, num_class: int, dropout: float=0.1, pad_token: int=0\n",
        "        ):\n",
        "        \"\"\"\n",
        "        Inputs:\n",
        "        - vocab_size: Vocabulary size, indicating how many tokens we have in total.\n",
        "        - embed_dim: The dimension of word embeddings\n",
        "        - num_heads: Number of attention heads in a multi-head attention module\n",
        "        - trx_ff_dim: The hidden dimension for a feedforward network\n",
        "        - num_trx_cells: Number of TransformerEncoderCells\n",
        "        - dropout: Dropout ratio\n",
        "        - pad_token: The index of the padding token.\n",
        "        \"\"\"\n",
        "        super(TransformerClassifier, self).__init__()\n",
        "\n",
        "        self.embed_dim = embed_dim\n",
        "\n",
        "        # word embedding layer\n",
        "        self.embedding = nn.Embedding(vocab_size, embed_dim, padding_idx=pad_token)\n",
        "\n",
        "\n",
        "        self.pe = PositionalEncoding(embed_dim)\n",
        "        self.transformer_encoder = TransformerEncoder(embed_dim, num_heads, trx_ff_dim, num_trx_cells, dropout)\n",
        "        self.output_fc = nn.Linear(embed_dim, num_class)\n",
        "\n",
        "\n",
        "    def forward(self, text, mask=None):\n",
        "        \"\"\"\n",
        "        Inputs:\n",
        "        - text: Tensor with the shape of BxLxC.\n",
        "        - mask: Tensor for multi-head attention\n",
        "\n",
        "        Return:\n",
        "        - logits: Tensor with the shape of BxK, where K is the number of classes\n",
        "        \"\"\"\n",
        "\n",
        "        # word embeddings, note we multiple the embeddings by a factor\n",
        "        embedded = self.embedding(text) * math.sqrt(self.embed_dim)\n",
        "\n",
        "        embedded_pe = self.pe(embedded)\n",
        "        enc_out = self.transformer_encoder(embedded_pe)\n",
        "        logits = torch.mean(enc_out, 1)\n",
        "        logits = self.output_fc(logits)\n",
        "\n",
        "        return logits"
      ]
    },
    {
      "cell_type": "code",
      "execution_count": 21,
      "id": "5e926e90",
      "metadata": {
        "colab": {
          "base_uri": "https://localhost:8080/"
        },
        "id": "5e926e90",
        "outputId": "946247fa-1fcf-4526-eb09-72dacb61c71e"
      },
      "outputs": [
        {
          "output_type": "stream",
          "name": "stdout",
          "text": [
            "x: torch.Size([2, 10]), mask: torch.Size([2, 1, 1, 10])\n",
            "torch.Size([2, 3])\n"
          ]
        }
      ],
      "source": [
        "vocab_size = 10\n",
        "embed_dim = 16\n",
        "num_heads = 4\n",
        "trx_ff_dim = 16\n",
        "num_trx_cells = 2\n",
        "num_class = 3\n",
        "\n",
        "x = torch.arange(vocab_size).view(1, -1)\n",
        "x = torch.cat((x, x), dim=0)\n",
        "mask = (x != 0).unsqueeze(-2).unsqueeze(1)\n",
        "model = TransformerClassifier(vocab_size, embed_dim, num_heads, trx_ff_dim, num_trx_cells, num_class)\n",
        "print('x: {}, mask: {}'.format(x.shape, mask.shape))\n",
        "y = model(x, mask)\n",
        "assert len(y.shape) == 2 and y.shape[0] == x.shape[0] and y.shape[1] == num_class\n",
        "print(y.shape)"
      ]
    },
    {
      "cell_type": "code",
      "execution_count": 23,
      "id": "46bd5779",
      "metadata": {
        "colab": {
          "base_uri": "https://localhost:8080/"
        },
        "id": "46bd5779",
        "outputId": "e14d6590-4945-445f-d230-05f59338bd28"
      },
      "outputs": [
        {
          "output_type": "stream",
          "name": "stdout",
          "text": [
            "| epoch   1 |   500/ 1782 batches | accuracy    0.433\n",
            "| epoch   1 |  1000/ 1782 batches | accuracy    0.620\n",
            "| epoch   1 |  1500/ 1782 batches | accuracy    0.692\n",
            "-----------------------------------------------------------\n",
            "| end of epoch   1 | time: 51.15s | valid accuracy    0.737 \n",
            "-----------------------------------------------------------\n",
            "| epoch   2 |   500/ 1782 batches | accuracy    0.757\n",
            "| epoch   2 |  1000/ 1782 batches | accuracy    0.779\n",
            "| epoch   2 |  1500/ 1782 batches | accuracy    0.795\n",
            "-----------------------------------------------------------\n",
            "| end of epoch   2 | time: 48.44s | valid accuracy    0.790 \n",
            "-----------------------------------------------------------\n",
            "| epoch   3 |   500/ 1782 batches | accuracy    0.820\n",
            "| epoch   3 |  1000/ 1782 batches | accuracy    0.826\n",
            "| epoch   3 |  1500/ 1782 batches | accuracy    0.833\n",
            "-----------------------------------------------------------\n",
            "| end of epoch   3 | time: 48.50s | valid accuracy    0.821 \n",
            "-----------------------------------------------------------\n",
            "| epoch   4 |   500/ 1782 batches | accuracy    0.854\n",
            "| epoch   4 |  1000/ 1782 batches | accuracy    0.853\n",
            "| epoch   4 |  1500/ 1782 batches | accuracy    0.849\n",
            "-----------------------------------------------------------\n",
            "| end of epoch   4 | time: 49.12s | valid accuracy    0.844 \n",
            "-----------------------------------------------------------\n",
            "| epoch   5 |   500/ 1782 batches | accuracy    0.867\n",
            "| epoch   5 |  1000/ 1782 batches | accuracy    0.870\n",
            "| epoch   5 |  1500/ 1782 batches | accuracy    0.870\n",
            "-----------------------------------------------------------\n",
            "| end of epoch   5 | time: 48.72s | valid accuracy    0.855 \n",
            "-----------------------------------------------------------\n"
          ]
        }
      ],
      "source": [
        "assert torch.cuda.is_available()\n",
        "from torch.utils.data.dataset import random_split\n",
        "from torchtext.data.functional import to_map_style_dataset\n",
        "# device = 'cuda'\n",
        "device = torch.device(\"cuda\" if torch.cuda.is_available() else \"cpu\")\n",
        "\n",
        "# Hyperparameters\n",
        "epochs = 5 # epoch\n",
        "lr = 0.0005  # learning rate\n",
        "batch_size = 64 # batch size for training\n",
        "\n",
        "train_iter = AG_NEWS(split='train')\n",
        "num_class = len(set([label for (label, text) in train_iter]))\n",
        "vocab_size = len(vocab)\n",
        "emsize = 64\n",
        "\n",
        "num_heads = 4\n",
        "num_trx_cells = 2\n",
        "\n",
        "gradient_norm_clip = 1\n",
        "\n",
        "model = TransformerClassifier(vocab_size,embed_dim, num_heads, emsize, num_trx_cells, num_class)\n",
        "loss_func = nn.CrossEntropyLoss()\n",
        "\n",
        "model = model.to(device)\n",
        "\n",
        "optimizer = torch.optim.AdamW(model.parameters(), lr=lr)\n",
        "scheduler = torch.optim.lr_scheduler.CosineAnnealingLR(optimizer, epochs, 1e-8)\n",
        "total_accu = None\n",
        "\n",
        "\n",
        "train_iter, test_iter = AG_NEWS()\n",
        "train_dataset = to_map_style_dataset(train_iter)\n",
        "test_dataset = to_map_style_dataset(test_iter)\n",
        "num_train = int(len(train_dataset) * 0.95)\n",
        "split_train_, split_valid_ = random_split(\n",
        "    train_dataset,\n",
        "    [num_train, len(train_dataset) - num_train]\n",
        ")\n",
        "\n",
        "train_dataloader = DataLoader(\n",
        "    split_train_, batch_size=batch_size,\n",
        "    shuffle=True, collate_fn=collate_batch\n",
        ")\n",
        "\n",
        "valid_dataloader = DataLoader(\n",
        "    split_valid_, batch_size=batch_size,\n",
        "    shuffle=False, collate_fn=collate_batch\n",
        ")\n",
        "\n",
        "test_dataloader = DataLoader(\n",
        "    test_dataset, batch_size=batch_size,\n",
        "    shuffle=False, collate_fn=collate_batch\n",
        ")\n",
        "\n",
        "for epoch in range(1, epochs + 1):\n",
        "    epoch_start_time = time.time()\n",
        "    train(model, train_dataloader, loss_func, device, gradient_norm_clip)\n",
        "    accu_val = evaluate(model, valid_dataloader, loss_func, device)\n",
        "    if total_accu is not None and total_accu > accu_val:\n",
        "        scheduler.step()\n",
        "    else:\n",
        "        total_accu = accu_val\n",
        "    print('-' * 59)\n",
        "    print('| end of epoch {:3d} | time: {:5.2f}s | '\n",
        "          'valid accuracy {:8.3f} '.format(epoch,\n",
        "                                           time.time() - epoch_start_time,\n",
        "                                           accu_val))\n",
        "    print('-' * 59)"
      ]
    },
    {
      "cell_type": "markdown",
      "source": [
        "# Fastformer Implementaion"
      ],
      "metadata": {
        "id": "dZxBErNKoJ4f"
      },
      "id": "dZxBErNKoJ4f"
    },
    {
      "cell_type": "markdown",
      "id": "d11c75d6",
      "metadata": {
        "id": "d11c75d6"
      },
      "source": [
        "Implementing the attention mechanism modification mentioned in the paper Fastformer to speed up the transformer architecture. https://arxiv.org/abs/2108.09084.\n",
        "\n",
        "<br>\n",
        "The query-key inner product being a quadratic operation makes the transformer slow in nature. The paper proposes to speed up the the attention mechanism by aggrigating the query vectors using a weighted sum.\n",
        "\n",
        "This aggrigated query vector is multiplied with each key vector and is suggested as a replacement for the vanila attention mechanism. This process is further repeated for the key and value vector pair.\n",
        "\n",
        "Though aggrigating all the queries reduces the expresibility of the model, the paper claims that the performance loss in the negligible compared to the reduction in training time even for complex tasks."
      ]
    },
    {
      "cell_type": "code",
      "source": [
        ""
      ],
      "metadata": {
        "id": "oJDuDDXJwiaE"
      },
      "id": "oJDuDDXJwiaE",
      "execution_count": 69,
      "outputs": []
    },
    {
      "cell_type": "code",
      "execution_count": 70,
      "id": "c13c8b44",
      "metadata": {
        "colab": {
          "base_uri": "https://localhost:8080/"
        },
        "id": "c13c8b44",
        "outputId": "978acac7-6b25-4d5f-f22a-55b561f5d1a4"
      },
      "outputs": [
        {
          "output_type": "stream",
          "name": "stdout",
          "text": [
            "torch.Size([2, 10, 8])\n"
          ]
        }
      ],
      "source": [
        "x = torch.randn((2, 10, 8))\n",
        "mask = torch.randn((2, 10)) > 0.5\n",
        "mask = mask.unsqueeze(-1)\n",
        "\n",
        "num_heads = 4\n",
        "model = FastMultiHeadAttention(8, num_heads)\n",
        "y = model(x, x, x, mask)\n",
        "assert len(y.shape) == len(x.shape)\n",
        "for dim_x, dim_y in zip(x.shape, y.shape):\n",
        "    assert dim_x == dim_y\n",
        "print(y.shape)"
      ]
    },
    {
      "cell_type": "code",
      "execution_count": 71,
      "id": "6ee7210f",
      "metadata": {
        "id": "6ee7210f"
      },
      "outputs": [],
      "source": [
        "class FastTransformerEncoderCell(nn.Module):\n",
        "    \"\"\"\n",
        "    A single cell (unit) for the Transformer encoder.\n",
        "    \"\"\"\n",
        "    def __init__(self, input_dim: int, num_heads: int, ff_dim: int, dropout: float):\n",
        "        \"\"\"\n",
        "        Inputs:\n",
        "        - input_dim: Input dimension for each token in a sequence\n",
        "        - num_heads: Number of attention heads in a multi-head attention module\n",
        "        - ff_dim: The hidden dimension for a feedforward network\n",
        "        - dropout: Dropout ratio for the output of the multi-head attention and feedforward\n",
        "          modules.\n",
        "        \"\"\"\n",
        "        super(FastTransformerEncoderCell, self).__init__()\n",
        "\n",
        "\n",
        "        self.attention = FastMultiHeadAttention(input_dim, num_heads)\n",
        "        self.dropout = nn.Dropout(dropout)\n",
        "        self.norm1 = nn.LayerNorm(input_dim)\n",
        "        self.norm2 = nn.LayerNorm(input_dim)\n",
        "        self.fc = FeedForwardNetwork(input_dim, ff_dim, dropout)\n",
        "\n",
        "\n",
        "    def forward(self, x: torch.Tensor, mask: torch.Tensor=None):\n",
        "        \"\"\"\n",
        "        Inputs:\n",
        "        - x: Tensor of the shape BxLxC, where B is the batch size, L is the sequence length,\n",
        "          and C is the channel dimension\n",
        "        - mask: Tensor for multi-head attention\n",
        "        \"\"\"\n",
        "\n",
        "        y = None\n",
        "\n",
        "        attention = self.attention(x,x,x,mask)\n",
        "        attention = self.dropout(attention)\n",
        "        x = self.norm1(attention+x)\n",
        "        forward = self.fc(x)\n",
        "        forward = self.dropout(forward)\n",
        "        y = self.norm2(forward+x)\n",
        "\n",
        "        return y"
      ]
    },
    {
      "cell_type": "code",
      "execution_count": 72,
      "id": "5dfe1433",
      "metadata": {
        "colab": {
          "base_uri": "https://localhost:8080/"
        },
        "id": "5dfe1433",
        "outputId": "7783cc00-c094-4822-b6d3-12c788bef0ee"
      },
      "outputs": [
        {
          "output_type": "stream",
          "name": "stdout",
          "text": [
            "torch.Size([2, 10, 8])\n"
          ]
        }
      ],
      "source": [
        "x = torch.randn((2, 10, 8))\n",
        "mask = torch.randn((2, 10)) > 0.5\n",
        "mask = mask.unsqueeze(1).unsqueeze(-1)\n",
        "num_heads = 4\n",
        "model = FastTransformerEncoderCell(8, num_heads, 32, 0.1)\n",
        "y = model(x, mask)\n",
        "assert len(x.shape) == len(y.shape)\n",
        "for dim_x, dim_y in zip(x.shape, y.shape):\n",
        "    assert dim_x == dim_y\n",
        "print(y.shape)"
      ]
    },
    {
      "cell_type": "code",
      "execution_count": 73,
      "id": "dbe04cb2",
      "metadata": {
        "id": "dbe04cb2"
      },
      "outputs": [],
      "source": [
        "class FastTransformerEncoder(nn.Module):\n",
        "    \"\"\"\n",
        "    A full encoder consisting of a set of TransformerEncoderCell.\n",
        "    \"\"\"\n",
        "    def __init__(self, input_dim: int, num_heads: int, ff_dim: int, num_cells: int, dropout: float=0.1):\n",
        "        \"\"\"\n",
        "        Inputs:\n",
        "        - input_dim: Input dimension for each token in a sequence\n",
        "        - num_heads: Number of attention heads in a multi-head attention module\n",
        "        - ff_dim: The hidden dimension for a feedforward network\n",
        "        - num_cells: Number of TransformerEncoderCells\n",
        "        - dropout: Dropout ratio for the output of the multi-head attention and feedforward\n",
        "          modules.\n",
        "        \"\"\"\n",
        "        super(FastTransformerEncoder, self).__init__()\n",
        "\n",
        "        self.norm = None\n",
        "\n",
        "        self.layers = nn.ModuleList(\n",
        "            [FastTransformerEncoderCell(input_dim, num_heads, ff_dim, dropout) for _ in range(num_cells)]\n",
        "        )\n",
        "        self.norm = nn.LayerNorm(input_dim)\n",
        "\n",
        "\n",
        "    def forward(self, x: torch.Tensor, mask: torch.Tensor=None):\n",
        "        \"\"\"\n",
        "        Inputs:\n",
        "        - x: Tensor of the shape BxLxC, where B is the batch size, L is the sequence length,\n",
        "          and C is the channel dimension\n",
        "        - mask: Tensor for multi-head attention\n",
        "\n",
        "        Return:\n",
        "        - y: Tensor of the shape of BxLxC, which is the normalized output of the encoder\n",
        "        \"\"\"\n",
        "\n",
        "        y = None\n",
        "\n",
        "        for layer in self.layers:\n",
        "          x = layer(x,mask)\n",
        "\n",
        "        y = self.norm(x)\n",
        "\n",
        "\n",
        "        return y\n",
        ""
      ]
    },
    {
      "cell_type": "code",
      "execution_count": 74,
      "id": "74b1c7bc",
      "metadata": {
        "colab": {
          "base_uri": "https://localhost:8080/"
        },
        "id": "74b1c7bc",
        "outputId": "aea4cdf6-998c-4122-8271-22aa29147653"
      },
      "outputs": [
        {
          "output_type": "stream",
          "name": "stdout",
          "text": [
            "torch.Size([2, 10, 8])\n"
          ]
        }
      ],
      "source": [
        "x = torch.randn((2, 10, 8))\n",
        "mask = torch.randn((2, 10)) > 0.5\n",
        "mask = mask.unsqueeze(1).unsqueeze(-1)\n",
        "num_heads = 4\n",
        "model = FastTransformerEncoder(8, num_heads, 32, 2, 0.1)\n",
        "y = model(x)\n",
        "assert len(x.shape) == len(y.shape)\n",
        "for dim_x, dim_y in zip(x.shape, y.shape):\n",
        "    assert dim_x == dim_y\n",
        "print(y.shape)"
      ]
    },
    {
      "cell_type": "code",
      "execution_count": 75,
      "id": "211bfdb6",
      "metadata": {
        "id": "211bfdb6"
      },
      "outputs": [],
      "source": [
        "class FastTransformerClassifier(nn.Module):\n",
        "    \"\"\"\n",
        "    A Transformer-based text classifier.\n",
        "    \"\"\"\n",
        "    def __init__(self,\n",
        "            vocab_size: int, embed_dim: int, num_heads: int, trx_ff_dim: int,\n",
        "            num_trx_cells: int, num_class: int, dropout: float=0.1, pad_token: int=0\n",
        "        ):\n",
        "        \"\"\"\n",
        "        Inputs:\n",
        "        - vocab_size: Vocabulary size, indicating how many tokens we have in total.\n",
        "        - embed_dim: The dimension of word embeddings\n",
        "        - num_heads: Number of attention heads in a multi-head attention module\n",
        "        - trx_ff_dim: The hidden dimension for a feedforward network\n",
        "        - num_trx_cells: Number of TransformerEncoderCells\n",
        "        - dropout: Dropout ratio\n",
        "        - pad_token: The index of the padding token.\n",
        "        \"\"\"\n",
        "        super(FastTransformerClassifier, self).__init__()\n",
        "\n",
        "        self.embed_dim = embed_dim\n",
        "\n",
        "        # word embedding layer\n",
        "        self.embedding = nn.Embedding(vocab_size, embed_dim, padding_idx=pad_token)\n",
        "\n",
        "\n",
        "        self.pe = PositionalEncoding(embed_dim)\n",
        "        self.fast_transformer_encoder = FastTransformerEncoder(embed_dim, num_heads, trx_ff_dim, num_trx_cells, dropout)\n",
        "        self.output_fc = nn.Linear(embed_dim, num_class)\n",
        "\n",
        "\n",
        "    def forward(self, text, mask=None):\n",
        "        \"\"\"\n",
        "        Inputs:\n",
        "        - text: Tensor with the shape of BxLxC.\n",
        "        - mask: Tensor for multi-head attention\n",
        "\n",
        "        Return:\n",
        "        - logits: Tensor with the shape of BxK, where K is the number of classes\n",
        "        \"\"\"\n",
        "\n",
        "        # word embeddings, note we multiple the embeddings by a factor\n",
        "        embedded = self.embedding(text) * math.sqrt(self.embed_dim)\n",
        "\n",
        "        logits = None\n",
        "\n",
        "        embedded_pe = self.pe(embedded)\n",
        "        enc_out = self.fast_transformer_encoder(embedded_pe)\n",
        "        logits = torch.mean(enc_out, 1)\n",
        "        logits = self.output_fc(logits)\n",
        "\n",
        "\n",
        "        return logits"
      ]
    },
    {
      "cell_type": "code",
      "execution_count": 76,
      "id": "e3e1914e",
      "metadata": {
        "colab": {
          "base_uri": "https://localhost:8080/"
        },
        "id": "e3e1914e",
        "outputId": "c44bf259-3e9f-4391-d909-6e036ff1cffb"
      },
      "outputs": [
        {
          "output_type": "stream",
          "name": "stdout",
          "text": [
            "x: torch.Size([2, 10]), mask: torch.Size([2, 1, 1, 10])\n",
            "torch.Size([2, 3])\n"
          ]
        }
      ],
      "source": [
        "vocab_size = 10\n",
        "embed_dim = 16\n",
        "num_heads = 4\n",
        "trx_ff_dim = 16\n",
        "num_trx_cells = 2\n",
        "num_class = 3\n",
        "\n",
        "x = torch.arange(vocab_size).view(1, -1)\n",
        "x = torch.cat((x, x), dim=0)\n",
        "mask = (x != 0).unsqueeze(-2).unsqueeze(1)\n",
        "model = FastTransformerClassifier(vocab_size, embed_dim, num_heads, trx_ff_dim, num_trx_cells, num_class)\n",
        "print('x: {}, mask: {}'.format(x.shape, mask.shape))\n",
        "y = model(x, mask)\n",
        "assert len(y.shape) == 2 and y.shape[0] == x.shape[0] and y.shape[1] == num_class\n",
        "print(y.shape)"
      ]
    },
    {
      "cell_type": "code",
      "execution_count": 84,
      "id": "132a18a5",
      "metadata": {
        "colab": {
          "base_uri": "https://localhost:8080/"
        },
        "id": "132a18a5",
        "outputId": "865e7c2d-c375-47da-f1d4-b467e67167b4"
      },
      "outputs": [
        {
          "output_type": "stream",
          "name": "stdout",
          "text": [
            "| epoch   1 |   500/ 1782 batches | accuracy    0.651\n",
            "| epoch   1 |  1000/ 1782 batches | accuracy    0.833\n",
            "| epoch   1 |  1500/ 1782 batches | accuracy    0.858\n",
            "-----------------------------------------------------------\n",
            "| end of epoch   1 | time: 48.09s | valid accuracy    0.875 \n",
            "-----------------------------------------------------------\n",
            "| epoch   2 |   500/ 1782 batches | accuracy    0.893\n",
            "| epoch   2 |  1000/ 1782 batches | accuracy    0.896\n",
            "| epoch   2 |  1500/ 1782 batches | accuracy    0.896\n",
            "-----------------------------------------------------------\n",
            "| end of epoch   2 | time: 52.80s | valid accuracy    0.875 \n",
            "-----------------------------------------------------------\n",
            "| epoch   3 |   500/ 1782 batches | accuracy    0.912\n",
            "| epoch   3 |  1000/ 1782 batches | accuracy    0.912\n",
            "| epoch   3 |  1500/ 1782 batches | accuracy    0.910\n",
            "-----------------------------------------------------------\n",
            "| end of epoch   3 | time: 47.21s | valid accuracy    0.889 \n",
            "-----------------------------------------------------------\n",
            "| epoch   4 |   500/ 1782 batches | accuracy    0.920\n",
            "| epoch   4 |  1000/ 1782 batches | accuracy    0.918\n",
            "| epoch   4 |  1500/ 1782 batches | accuracy    0.920\n",
            "-----------------------------------------------------------\n",
            "| end of epoch   4 | time: 49.23s | valid accuracy    0.893 \n",
            "-----------------------------------------------------------\n",
            "| epoch   5 |   500/ 1782 batches | accuracy    0.926\n",
            "| epoch   5 |  1000/ 1782 batches | accuracy    0.923\n",
            "| epoch   5 |  1500/ 1782 batches | accuracy    0.924\n",
            "-----------------------------------------------------------\n",
            "| end of epoch   5 | time: 47.57s | valid accuracy    0.900 \n",
            "-----------------------------------------------------------\n"
          ]
        }
      ],
      "source": [
        "assert torch.cuda.is_available()\n",
        "# device = 'cuda'\n",
        "device = torch.device(\"cuda\" if torch.cuda.is_available() else \"cpu\")\n",
        "\n",
        "# Hyperparameters\n",
        "epochs = 5 # epoch\n",
        "lr = 0.005  # learning rate changed from 0.0005\n",
        "batch_size = 64 # batch size for training\n",
        "\n",
        "train_iter = AG_NEWS(split='train')\n",
        "num_class = len(set([label for (label, text) in train_iter]))\n",
        "vocab_size = len(vocab)\n",
        "emsize = 64\n",
        "\n",
        "num_heads = 4\n",
        "num_trx_cells = 2\n",
        "\n",
        "gradient_norm_clip = 1\n",
        "\n",
        "model = FastTransformerClassifier(vocab_size,embed_dim, num_heads, emsize, num_trx_cells, num_class)\n",
        "loss_func = nn.CrossEntropyLoss()\n",
        "\n",
        "model = model.to(device)\n",
        "\n",
        "optimizer = torch.optim.AdamW(model.parameters(), lr=lr)\n",
        "scheduler = torch.optim.lr_scheduler.CosineAnnealingLR(optimizer, epochs, 1e-8)\n",
        "total_accu = None\n",
        "\n",
        "# You should be able to get a validation accuracy around 89%\n",
        "for epoch in range(1, epochs + 1):\n",
        "    epoch_start_time = time.time()\n",
        "    train(model, train_dataloader, loss_func, device, gradient_norm_clip)\n",
        "    accu_val = evaluate(model, valid_dataloader, loss_func, device)\n",
        "    if total_accu is not None and total_accu > accu_val:\n",
        "        scheduler.step()\n",
        "    else:\n",
        "        total_accu = accu_val\n",
        "    print('-' * 59)\n",
        "    print('| end of epoch {:3d} | time: {:5.2f}s | '\n",
        "          'valid accuracy {:8.3f} '.format(epoch,\n",
        "                                           time.time() - epoch_start_time,\n",
        "                                           accu_val))\n",
        "    print('-' * 59)"
      ]
    },
    {
      "cell_type": "markdown",
      "id": "6a84a09d",
      "metadata": {
        "id": "6a84a09d"
      },
      "source": [
        "The model with the modified attention mechanism seems to be running slightly faster than the vanila attention mechanism. Though there is a huge variablity in the epoch to epoch training time."
      ]
    }
  ],
  "metadata": {
    "kernelspec": {
      "display_name": "Python 3",
      "name": "python3"
    },
    "language_info": {
      "codemirror_mode": {
        "name": "ipython",
        "version": 3
      },
      "file_extension": ".py",
      "mimetype": "text/x-python",
      "name": "python",
      "nbconvert_exporter": "python",
      "pygments_lexer": "ipython3",
      "version": "3.8.8"
    },
    "colab": {
      "provenance": [],
      "gpuType": "T4"
    },
    "accelerator": "GPU"
  },
  "nbformat": 4,
  "nbformat_minor": 5
}